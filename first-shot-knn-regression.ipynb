{
  "metadata": {
    "kernelspec": {
      "language": "python",
      "display_name": "Python 3",
      "name": "python3"
    },
    "language_info": {
      "name": "python",
      "version": "3.11.11",
      "mimetype": "text/x-python",
      "codemirror_mode": {
        "name": "ipython",
        "version": 3
      },
      "pygments_lexer": "ipython3",
      "nbconvert_exporter": "python",
      "file_extension": ".py"
    },
    "kaggle": {
      "accelerator": "none",
      "dataSources": [
        {
          "sourceId": 5407,
          "databundleVersionId": 868283,
          "sourceType": "competition"
        }
      ],
      "dockerImageVersionId": 31040,
      "isInternetEnabled": true,
      "language": "python",
      "sourceType": "notebook",
      "isGpuEnabled": false
    },
    "colab": {
      "name": "notebook38fcae62c1",
      "provenance": [],
      "include_colab_link": true
    }
  },
  "nbformat_minor": 0,
  "nbformat": 4,
  "cells": [
    {
      "cell_type": "markdown",
      "metadata": {
        "id": "view-in-github",
        "colab_type": "text"
      },
      "source": [
        "<a href=\"https://colab.research.google.com/github/idebroy/ml-ds/blob/main/first-shot-knn-regression.ipynb\" target=\"_parent\"><img src=\"https://colab.research.google.com/assets/colab-badge.svg\" alt=\"Open In Colab\"/></a>"
      ]
    },
    {
      "source": [
        "# IMPORTANT: SOME KAGGLE DATA SOURCES ARE PRIVATE\n",
        "# RUN THIS CELL IN ORDER TO IMPORT YOUR KAGGLE DATA SOURCES.\n",
        "import kagglehub\n",
        "kagglehub.login()\n"
      ],
      "metadata": {
        "id": "ROQrG8Rj8-FR"
      },
      "cell_type": "code",
      "outputs": [],
      "execution_count": null
    },
    {
      "source": [
        "# IMPORTANT: RUN THIS CELL IN ORDER TO IMPORT YOUR KAGGLE DATA SOURCES,\n",
        "# THEN FEEL FREE TO DELETE THIS CELL.\n",
        "# NOTE: THIS NOTEBOOK ENVIRONMENT DIFFERS FROM KAGGLE'S PYTHON\n",
        "# ENVIRONMENT SO THERE MAY BE MISSING LIBRARIES USED BY YOUR\n",
        "# NOTEBOOK.\n",
        "\n",
        "house_prices_advanced_regression_techniques_path = kagglehub.competition_download('house-prices-advanced-regression-techniques')\n",
        "\n",
        "print('Data source import complete.')\n"
      ],
      "metadata": {
        "id": "vw_8nTUM8-FS"
      },
      "cell_type": "code",
      "outputs": [],
      "execution_count": null
    },
    {
      "cell_type": "code",
      "source": [
        "# This Python 3 environment comes with many helpful analytics libraries installed\n",
        "# It is defined by the kaggle/python Docker image: https://github.com/kaggle/docker-python\n",
        "# For example, here's several helpful packages to load\n",
        "\n",
        "import numpy as np # linear algebra\n",
        "import pandas as pd # data processing, CSV file I/O (e.g. pd.read_csv)\n",
        "\n",
        "# Input data files are available in the read-only \"../input/\" directory\n",
        "# For example, running this (by clicking run or pressing Shift+Enter) will list all files under the input directory\n",
        "\n",
        "import os\n",
        "for dirname, _, filenames in os.walk('/kaggle/input'):\n",
        "    for filename in filenames:\n",
        "        print(os.path.join(dirname, filename))\n",
        "\n",
        "# You can write up to 20GB to the current directory (/kaggle/working/) that gets preserved as output when you create a version using \"Save & Run All\"\n",
        "# You can also write temporary files to /kaggle/temp/, but they won't be saved outside of the current session"
      ],
      "metadata": {
        "_uuid": "8f2839f25d086af736a60e9eeb907d3b93b6e0e5",
        "_cell_guid": "b1076dfc-b9ad-4769-8c92-a6c4dae69d19",
        "trusted": true,
        "execution": {
          "iopub.status.busy": "2025-06-23T21:33:34.721822Z",
          "iopub.execute_input": "2025-06-23T21:33:34.722055Z",
          "iopub.status.idle": "2025-06-23T21:33:37.194813Z",
          "shell.execute_reply.started": "2025-06-23T21:33:34.722034Z",
          "shell.execute_reply": "2025-06-23T21:33:37.194001Z"
        },
        "id": "sMe7hzcC8-FT",
        "outputId": "ae21df24-b2b9-40ec-d0a1-2204895e5814"
      },
      "outputs": [
        {
          "name": "stdout",
          "text": "/kaggle/input/house-prices-advanced-regression-techniques/sample_submission.csv\n/kaggle/input/house-prices-advanced-regression-techniques/data_description.txt\n/kaggle/input/house-prices-advanced-regression-techniques/train.csv\n/kaggle/input/house-prices-advanced-regression-techniques/test.csv\n",
          "output_type": "stream"
        }
      ],
      "execution_count": null
    },
    {
      "cell_type": "code",
      "source": [
        "import numpy as np\n",
        "import pandas as pd\n",
        "import matplotlib.pyplot as plt\n",
        "import seaborn as sns\n",
        "\n",
        "# Machine learning models and metrics\n",
        "from sklearn.naive_bayes import GaussianNB\n",
        "from sklearn.linear_model import LogisticRegression\n",
        "from sklearn.neighbors import KNeighborsClassifier\n",
        "from sklearn.model_selection import train_test_split, GridSearchCV\n",
        "from sklearn.metrics import (accuracy_score, classification_report,\n",
        "                             precision_score, recall_score, f1_score,\n",
        "                             confusion_matrix)\n",
        "\n",
        "import spacy\n",
        "import nltk\n",
        "from nltk.corpus import stopwords\n",
        "from nltk.tokenize import word_tokenize\n",
        "from nltk.stem import PorterStemmer, WordNetLemmatizer\n",
        "from nltk.sentiment.vader import SentimentIntensityAnalyzer\n",
        "from gensim.models.doc2vec import Doc2Vec, TaggedDocument"
      ],
      "metadata": {
        "trusted": true,
        "execution": {
          "iopub.status.busy": "2025-06-23T22:35:47.381271Z",
          "iopub.execute_input": "2025-06-23T22:35:47.381635Z",
          "iopub.status.idle": "2025-06-23T22:35:47.389198Z",
          "shell.execute_reply.started": "2025-06-23T22:35:47.381612Z",
          "shell.execute_reply": "2025-06-23T22:35:47.388053Z"
        },
        "id": "uw9FsAJI8-FT"
      },
      "outputs": [],
      "execution_count": null
    },
    {
      "cell_type": "code",
      "source": [
        "def load_csv(file_path):\n",
        "  try:\n",
        "    df = pd.read_csv(file_path)\n",
        "    return df\n",
        "  except FileNotFoundError:\n",
        "    print(f\"Error: File not found at {file_path}\")\n",
        "    return None\n",
        "  except Exception as e:\n",
        "    print(f\"An error occurred while loading the file: {e}\")\n",
        "    return None\n",
        "\n",
        "# Example usage:\n",
        "trainFilePath = '/kaggle/input/house-prices-advanced-regression-techniques/train.csv'\n",
        "df = load_csv(trainFilePath)\n",
        "print(f\"Kaggle \\\"connected to:\\\" {trainFilePath}\")\n",
        "\n",
        "testFilePath = '/kaggle/input/house-prices-advanced-regression-techniques/test.csv'\n",
        "df_test = load_csv(testFilePath)\n",
        "print(f\"Kaggle \\\"connected to:\\\" {testFilePath}\")\n",
        "\n",
        "# If the file is loaded successfully, you can work with the DataFrame 'df'.\n",
        "# For example, you can print the first few rows:\n",
        "print(df.info())"
      ],
      "metadata": {
        "trusted": true,
        "execution": {
          "iopub.status.busy": "2025-06-23T22:35:53.33861Z",
          "iopub.execute_input": "2025-06-23T22:35:53.338897Z",
          "iopub.status.idle": "2025-06-23T22:35:53.396184Z",
          "shell.execute_reply.started": "2025-06-23T22:35:53.338877Z",
          "shell.execute_reply": "2025-06-23T22:35:53.395147Z"
        },
        "id": "JpwEpwbS8-FT",
        "outputId": "eacbe2b7-6f71-42c8-a1ba-b30c52a870ac"
      },
      "outputs": [
        {
          "name": "stdout",
          "text": "Kaggle \"connected to:\" /kaggle/input/house-prices-advanced-regression-techniques/train.csv\nKaggle \"connected to:\" /kaggle/input/house-prices-advanced-regression-techniques/test.csv\n<class 'pandas.core.frame.DataFrame'>\nRangeIndex: 1460 entries, 0 to 1459\nData columns (total 81 columns):\n #   Column         Non-Null Count  Dtype  \n---  ------         --------------  -----  \n 0   Id             1460 non-null   int64  \n 1   MSSubClass     1460 non-null   int64  \n 2   MSZoning       1460 non-null   object \n 3   LotFrontage    1201 non-null   float64\n 4   LotArea        1460 non-null   int64  \n 5   Street         1460 non-null   object \n 6   Alley          91 non-null     object \n 7   LotShape       1460 non-null   object \n 8   LandContour    1460 non-null   object \n 9   Utilities      1460 non-null   object \n 10  LotConfig      1460 non-null   object \n 11  LandSlope      1460 non-null   object \n 12  Neighborhood   1460 non-null   object \n 13  Condition1     1460 non-null   object \n 14  Condition2     1460 non-null   object \n 15  BldgType       1460 non-null   object \n 16  HouseStyle     1460 non-null   object \n 17  OverallQual    1460 non-null   int64  \n 18  OverallCond    1460 non-null   int64  \n 19  YearBuilt      1460 non-null   int64  \n 20  YearRemodAdd   1460 non-null   int64  \n 21  RoofStyle      1460 non-null   object \n 22  RoofMatl       1460 non-null   object \n 23  Exterior1st    1460 non-null   object \n 24  Exterior2nd    1460 non-null   object \n 25  MasVnrType     588 non-null    object \n 26  MasVnrArea     1452 non-null   float64\n 27  ExterQual      1460 non-null   object \n 28  ExterCond      1460 non-null   object \n 29  Foundation     1460 non-null   object \n 30  BsmtQual       1423 non-null   object \n 31  BsmtCond       1423 non-null   object \n 32  BsmtExposure   1422 non-null   object \n 33  BsmtFinType1   1423 non-null   object \n 34  BsmtFinSF1     1460 non-null   int64  \n 35  BsmtFinType2   1422 non-null   object \n 36  BsmtFinSF2     1460 non-null   int64  \n 37  BsmtUnfSF      1460 non-null   int64  \n 38  TotalBsmtSF    1460 non-null   int64  \n 39  Heating        1460 non-null   object \n 40  HeatingQC      1460 non-null   object \n 41  CentralAir     1460 non-null   object \n 42  Electrical     1459 non-null   object \n 43  1stFlrSF       1460 non-null   int64  \n 44  2ndFlrSF       1460 non-null   int64  \n 45  LowQualFinSF   1460 non-null   int64  \n 46  GrLivArea      1460 non-null   int64  \n 47  BsmtFullBath   1460 non-null   int64  \n 48  BsmtHalfBath   1460 non-null   int64  \n 49  FullBath       1460 non-null   int64  \n 50  HalfBath       1460 non-null   int64  \n 51  BedroomAbvGr   1460 non-null   int64  \n 52  KitchenAbvGr   1460 non-null   int64  \n 53  KitchenQual    1460 non-null   object \n 54  TotRmsAbvGrd   1460 non-null   int64  \n 55  Functional     1460 non-null   object \n 56  Fireplaces     1460 non-null   int64  \n 57  FireplaceQu    770 non-null    object \n 58  GarageType     1379 non-null   object \n 59  GarageYrBlt    1379 non-null   float64\n 60  GarageFinish   1379 non-null   object \n 61  GarageCars     1460 non-null   int64  \n 62  GarageArea     1460 non-null   int64  \n 63  GarageQual     1379 non-null   object \n 64  GarageCond     1379 non-null   object \n 65  PavedDrive     1460 non-null   object \n 66  WoodDeckSF     1460 non-null   int64  \n 67  OpenPorchSF    1460 non-null   int64  \n 68  EnclosedPorch  1460 non-null   int64  \n 69  3SsnPorch      1460 non-null   int64  \n 70  ScreenPorch    1460 non-null   int64  \n 71  PoolArea       1460 non-null   int64  \n 72  PoolQC         7 non-null      object \n 73  Fence          281 non-null    object \n 74  MiscFeature    54 non-null     object \n 75  MiscVal        1460 non-null   int64  \n 76  MoSold         1460 non-null   int64  \n 77  YrSold         1460 non-null   int64  \n 78  SaleType       1460 non-null   object \n 79  SaleCondition  1460 non-null   object \n 80  SalePrice      1460 non-null   int64  \ndtypes: float64(3), int64(35), object(43)\nmemory usage: 924.0+ KB\nNone\n",
          "output_type": "stream"
        }
      ],
      "execution_count": null
    },
    {
      "cell_type": "code",
      "source": [
        "def impute_categorical_nan(data, column):\n",
        "  \"\"\"\n",
        "  Imputes missing values in a categorical column with the most frequent value.\n",
        "\n",
        "  Args:\n",
        "    data: Pandas DataFrame.\n",
        "    column: Name of the categorical column with missing values.\n",
        "\n",
        "  Returns:\n",
        "    Pandas DataFrame with imputed values.\n",
        "  \"\"\"\n",
        "\n",
        "  # Find the most frequent value\n",
        "  most_frequent_value = data[column].mode()[0]\n",
        "  print(most_frequent_value)\n",
        "\n",
        "  # Fill missing values with the most frequent value\n",
        "  data[column] = data[column].fillna(most_frequent_value)\n",
        "\n",
        "  return data\n",
        "\n",
        "def impute_numerical_nan(data, column):\n",
        "  \"\"\"\n",
        "  Imputes missing values in a numerical column with the mean.\n",
        "  Args:\n",
        "    data: Pandas DataFrame.\n",
        "    column: Name of the numerical column with missing values.\n",
        "  Returns:\n",
        "    Pandas DataFrame with imputed values.\n",
        "  \"\"\"\n",
        "  # Calculate the mean\n",
        "  mean = data[column].mean()\n",
        "\n",
        "  # Fill missing values with the mean\n",
        "  data[column] = data[column].fillna(mean)\n",
        "\n",
        "  return data\n",
        "\n",
        "def impute_nan(data, column):\n",
        "  \"\"\"\n",
        "  Imputes missing values in a column based on its data type.\n",
        "\n",
        "  Args:\n",
        "    data: Pandas DataFrame.\n",
        "    column: Name of the column with missing values.\n",
        "\n",
        "  Returns:\n",
        "    Pandas DataFrame with imputed values.\n",
        "  \"\"\"\n",
        "  if column in data.select_dtypes(include=['number']).columns:\n",
        "    data = impute_numerical_nan(data, column)\n",
        "  else:\n",
        "    data = impute_categorical_nan(data, column)\n",
        "\n",
        "  return data\n",
        "\n",
        "def find_cat_correlation(data, cat_cols, target_col):\n",
        "  \"\"\"\n",
        "  Finds the categorical column most highly correlated (using Cramér's V) with the target column.\n",
        "\n",
        "  Args:\n",
        "      data: Pandas DataFrame.\n",
        "      cat_cols: List of categorical columns.\n",
        "      target_col: Name of the target column (must be categorical).\n",
        "\n",
        "  Returns:\n",
        "      Name of the most highly correlated categorical column.\n",
        "  \"\"\"\n",
        "  from scipy.stats import chi2_contingency\n",
        "\n",
        "  correlations = {}\n",
        "\n",
        "  for col in cat_cols:\n",
        "    if col != target_col:\n",
        "      contingency_table = data.pivot_table(index=target_col, columns=col, aggfunc='size', fill_value=0)\n",
        "      chi2, _, _, _ = chi2_contingency(contingency_table)\n",
        "      n = contingency_table.sum().sum()\n",
        "      phi2 = chi2 / n\n",
        "      min_dim = min(contingency_table.shape) - 1\n",
        "      cramers_v = np.sqrt(phi2 / min_dim)\n",
        "      correlations[col] = cramers_v\n",
        "\n",
        "  most_correlated_column = max(correlations, key=correlations.get)\n",
        "  return most_correlated_column"
      ],
      "metadata": {
        "trusted": true,
        "execution": {
          "iopub.status.busy": "2025-06-23T22:36:00.825771Z",
          "iopub.execute_input": "2025-06-23T22:36:00.827117Z",
          "iopub.status.idle": "2025-06-23T22:36:00.837246Z",
          "shell.execute_reply.started": "2025-06-23T22:36:00.82708Z",
          "shell.execute_reply": "2025-06-23T22:36:00.836201Z"
        },
        "id": "uvGbdWzi8-FT"
      },
      "outputs": [],
      "execution_count": null
    },
    {
      "cell_type": "code",
      "source": [
        "df.info()"
      ],
      "metadata": {
        "trusted": true,
        "execution": {
          "iopub.status.busy": "2025-06-23T22:36:05.625775Z",
          "iopub.execute_input": "2025-06-23T22:36:05.62655Z",
          "iopub.status.idle": "2025-06-23T22:36:05.642973Z",
          "shell.execute_reply.started": "2025-06-23T22:36:05.626517Z",
          "shell.execute_reply": "2025-06-23T22:36:05.641745Z"
        },
        "id": "yn4Iv5ua8-FU",
        "outputId": "8c02e49a-2b35-41a7-c62d-27d8047d492a"
      },
      "outputs": [
        {
          "name": "stdout",
          "text": "<class 'pandas.core.frame.DataFrame'>\nRangeIndex: 1460 entries, 0 to 1459\nData columns (total 81 columns):\n #   Column         Non-Null Count  Dtype  \n---  ------         --------------  -----  \n 0   Id             1460 non-null   int64  \n 1   MSSubClass     1460 non-null   int64  \n 2   MSZoning       1460 non-null   object \n 3   LotFrontage    1201 non-null   float64\n 4   LotArea        1460 non-null   int64  \n 5   Street         1460 non-null   object \n 6   Alley          91 non-null     object \n 7   LotShape       1460 non-null   object \n 8   LandContour    1460 non-null   object \n 9   Utilities      1460 non-null   object \n 10  LotConfig      1460 non-null   object \n 11  LandSlope      1460 non-null   object \n 12  Neighborhood   1460 non-null   object \n 13  Condition1     1460 non-null   object \n 14  Condition2     1460 non-null   object \n 15  BldgType       1460 non-null   object \n 16  HouseStyle     1460 non-null   object \n 17  OverallQual    1460 non-null   int64  \n 18  OverallCond    1460 non-null   int64  \n 19  YearBuilt      1460 non-null   int64  \n 20  YearRemodAdd   1460 non-null   int64  \n 21  RoofStyle      1460 non-null   object \n 22  RoofMatl       1460 non-null   object \n 23  Exterior1st    1460 non-null   object \n 24  Exterior2nd    1460 non-null   object \n 25  MasVnrType     588 non-null    object \n 26  MasVnrArea     1452 non-null   float64\n 27  ExterQual      1460 non-null   object \n 28  ExterCond      1460 non-null   object \n 29  Foundation     1460 non-null   object \n 30  BsmtQual       1423 non-null   object \n 31  BsmtCond       1423 non-null   object \n 32  BsmtExposure   1422 non-null   object \n 33  BsmtFinType1   1423 non-null   object \n 34  BsmtFinSF1     1460 non-null   int64  \n 35  BsmtFinType2   1422 non-null   object \n 36  BsmtFinSF2     1460 non-null   int64  \n 37  BsmtUnfSF      1460 non-null   int64  \n 38  TotalBsmtSF    1460 non-null   int64  \n 39  Heating        1460 non-null   object \n 40  HeatingQC      1460 non-null   object \n 41  CentralAir     1460 non-null   object \n 42  Electrical     1459 non-null   object \n 43  1stFlrSF       1460 non-null   int64  \n 44  2ndFlrSF       1460 non-null   int64  \n 45  LowQualFinSF   1460 non-null   int64  \n 46  GrLivArea      1460 non-null   int64  \n 47  BsmtFullBath   1460 non-null   int64  \n 48  BsmtHalfBath   1460 non-null   int64  \n 49  FullBath       1460 non-null   int64  \n 50  HalfBath       1460 non-null   int64  \n 51  BedroomAbvGr   1460 non-null   int64  \n 52  KitchenAbvGr   1460 non-null   int64  \n 53  KitchenQual    1460 non-null   object \n 54  TotRmsAbvGrd   1460 non-null   int64  \n 55  Functional     1460 non-null   object \n 56  Fireplaces     1460 non-null   int64  \n 57  FireplaceQu    770 non-null    object \n 58  GarageType     1379 non-null   object \n 59  GarageYrBlt    1379 non-null   float64\n 60  GarageFinish   1379 non-null   object \n 61  GarageCars     1460 non-null   int64  \n 62  GarageArea     1460 non-null   int64  \n 63  GarageQual     1379 non-null   object \n 64  GarageCond     1379 non-null   object \n 65  PavedDrive     1460 non-null   object \n 66  WoodDeckSF     1460 non-null   int64  \n 67  OpenPorchSF    1460 non-null   int64  \n 68  EnclosedPorch  1460 non-null   int64  \n 69  3SsnPorch      1460 non-null   int64  \n 70  ScreenPorch    1460 non-null   int64  \n 71  PoolArea       1460 non-null   int64  \n 72  PoolQC         7 non-null      object \n 73  Fence          281 non-null    object \n 74  MiscFeature    54 non-null     object \n 75  MiscVal        1460 non-null   int64  \n 76  MoSold         1460 non-null   int64  \n 77  YrSold         1460 non-null   int64  \n 78  SaleType       1460 non-null   object \n 79  SaleCondition  1460 non-null   object \n 80  SalePrice      1460 non-null   int64  \ndtypes: float64(3), int64(35), object(43)\nmemory usage: 924.0+ KB\n",
          "output_type": "stream"
        }
      ],
      "execution_count": null
    },
    {
      "cell_type": "code",
      "source": [
        "df.describe()"
      ],
      "metadata": {
        "trusted": true,
        "execution": {
          "iopub.status.busy": "2025-06-23T22:36:09.688814Z",
          "iopub.execute_input": "2025-06-23T22:36:09.689534Z",
          "iopub.status.idle": "2025-06-23T22:36:09.760027Z",
          "shell.execute_reply.started": "2025-06-23T22:36:09.689509Z",
          "shell.execute_reply": "2025-06-23T22:36:09.758987Z"
        },
        "id": "ANOu4GMJ8-FU",
        "outputId": "988a7783-6a52-4fcd-b74c-4297dfb19715"
      },
      "outputs": [
        {
          "execution_count": 13,
          "output_type": "execute_result",
          "data": {
            "text/plain": "                Id   MSSubClass  LotFrontage        LotArea  OverallQual  \\\ncount  1460.000000  1460.000000  1201.000000    1460.000000  1460.000000   \nmean    730.500000    56.897260    70.049958   10516.828082     6.099315   \nstd     421.610009    42.300571    24.284752    9981.264932     1.382997   \nmin       1.000000    20.000000    21.000000    1300.000000     1.000000   \n25%     365.750000    20.000000    59.000000    7553.500000     5.000000   \n50%     730.500000    50.000000    69.000000    9478.500000     6.000000   \n75%    1095.250000    70.000000    80.000000   11601.500000     7.000000   \nmax    1460.000000   190.000000   313.000000  215245.000000    10.000000   \n\n       OverallCond    YearBuilt  YearRemodAdd   MasVnrArea   BsmtFinSF1  ...  \\\ncount  1460.000000  1460.000000   1460.000000  1452.000000  1460.000000  ...   \nmean      5.575342  1971.267808   1984.865753   103.685262   443.639726  ...   \nstd       1.112799    30.202904     20.645407   181.066207   456.098091  ...   \nmin       1.000000  1872.000000   1950.000000     0.000000     0.000000  ...   \n25%       5.000000  1954.000000   1967.000000     0.000000     0.000000  ...   \n50%       5.000000  1973.000000   1994.000000     0.000000   383.500000  ...   \n75%       6.000000  2000.000000   2004.000000   166.000000   712.250000  ...   \nmax       9.000000  2010.000000   2010.000000  1600.000000  5644.000000  ...   \n\n        WoodDeckSF  OpenPorchSF  EnclosedPorch    3SsnPorch  ScreenPorch  \\\ncount  1460.000000  1460.000000    1460.000000  1460.000000  1460.000000   \nmean     94.244521    46.660274      21.954110     3.409589    15.060959   \nstd     125.338794    66.256028      61.119149    29.317331    55.757415   \nmin       0.000000     0.000000       0.000000     0.000000     0.000000   \n25%       0.000000     0.000000       0.000000     0.000000     0.000000   \n50%       0.000000    25.000000       0.000000     0.000000     0.000000   \n75%     168.000000    68.000000       0.000000     0.000000     0.000000   \nmax     857.000000   547.000000     552.000000   508.000000   480.000000   \n\n          PoolArea       MiscVal       MoSold       YrSold      SalePrice  \ncount  1460.000000   1460.000000  1460.000000  1460.000000    1460.000000  \nmean      2.758904     43.489041     6.321918  2007.815753  180921.195890  \nstd      40.177307    496.123024     2.703626     1.328095   79442.502883  \nmin       0.000000      0.000000     1.000000  2006.000000   34900.000000  \n25%       0.000000      0.000000     5.000000  2007.000000  129975.000000  \n50%       0.000000      0.000000     6.000000  2008.000000  163000.000000  \n75%       0.000000      0.000000     8.000000  2009.000000  214000.000000  \nmax     738.000000  15500.000000    12.000000  2010.000000  755000.000000  \n\n[8 rows x 38 columns]",
            "text/html": "<div>\n<style scoped>\n    .dataframe tbody tr th:only-of-type {\n        vertical-align: middle;\n    }\n\n    .dataframe tbody tr th {\n        vertical-align: top;\n    }\n\n    .dataframe thead th {\n        text-align: right;\n    }\n</style>\n<table border=\"1\" class=\"dataframe\">\n  <thead>\n    <tr style=\"text-align: right;\">\n      <th></th>\n      <th>Id</th>\n      <th>MSSubClass</th>\n      <th>LotFrontage</th>\n      <th>LotArea</th>\n      <th>OverallQual</th>\n      <th>OverallCond</th>\n      <th>YearBuilt</th>\n      <th>YearRemodAdd</th>\n      <th>MasVnrArea</th>\n      <th>BsmtFinSF1</th>\n      <th>...</th>\n      <th>WoodDeckSF</th>\n      <th>OpenPorchSF</th>\n      <th>EnclosedPorch</th>\n      <th>3SsnPorch</th>\n      <th>ScreenPorch</th>\n      <th>PoolArea</th>\n      <th>MiscVal</th>\n      <th>MoSold</th>\n      <th>YrSold</th>\n      <th>SalePrice</th>\n    </tr>\n  </thead>\n  <tbody>\n    <tr>\n      <th>count</th>\n      <td>1460.000000</td>\n      <td>1460.000000</td>\n      <td>1201.000000</td>\n      <td>1460.000000</td>\n      <td>1460.000000</td>\n      <td>1460.000000</td>\n      <td>1460.000000</td>\n      <td>1460.000000</td>\n      <td>1452.000000</td>\n      <td>1460.000000</td>\n      <td>...</td>\n      <td>1460.000000</td>\n      <td>1460.000000</td>\n      <td>1460.000000</td>\n      <td>1460.000000</td>\n      <td>1460.000000</td>\n      <td>1460.000000</td>\n      <td>1460.000000</td>\n      <td>1460.000000</td>\n      <td>1460.000000</td>\n      <td>1460.000000</td>\n    </tr>\n    <tr>\n      <th>mean</th>\n      <td>730.500000</td>\n      <td>56.897260</td>\n      <td>70.049958</td>\n      <td>10516.828082</td>\n      <td>6.099315</td>\n      <td>5.575342</td>\n      <td>1971.267808</td>\n      <td>1984.865753</td>\n      <td>103.685262</td>\n      <td>443.639726</td>\n      <td>...</td>\n      <td>94.244521</td>\n      <td>46.660274</td>\n      <td>21.954110</td>\n      <td>3.409589</td>\n      <td>15.060959</td>\n      <td>2.758904</td>\n      <td>43.489041</td>\n      <td>6.321918</td>\n      <td>2007.815753</td>\n      <td>180921.195890</td>\n    </tr>\n    <tr>\n      <th>std</th>\n      <td>421.610009</td>\n      <td>42.300571</td>\n      <td>24.284752</td>\n      <td>9981.264932</td>\n      <td>1.382997</td>\n      <td>1.112799</td>\n      <td>30.202904</td>\n      <td>20.645407</td>\n      <td>181.066207</td>\n      <td>456.098091</td>\n      <td>...</td>\n      <td>125.338794</td>\n      <td>66.256028</td>\n      <td>61.119149</td>\n      <td>29.317331</td>\n      <td>55.757415</td>\n      <td>40.177307</td>\n      <td>496.123024</td>\n      <td>2.703626</td>\n      <td>1.328095</td>\n      <td>79442.502883</td>\n    </tr>\n    <tr>\n      <th>min</th>\n      <td>1.000000</td>\n      <td>20.000000</td>\n      <td>21.000000</td>\n      <td>1300.000000</td>\n      <td>1.000000</td>\n      <td>1.000000</td>\n      <td>1872.000000</td>\n      <td>1950.000000</td>\n      <td>0.000000</td>\n      <td>0.000000</td>\n      <td>...</td>\n      <td>0.000000</td>\n      <td>0.000000</td>\n      <td>0.000000</td>\n      <td>0.000000</td>\n      <td>0.000000</td>\n      <td>0.000000</td>\n      <td>0.000000</td>\n      <td>1.000000</td>\n      <td>2006.000000</td>\n      <td>34900.000000</td>\n    </tr>\n    <tr>\n      <th>25%</th>\n      <td>365.750000</td>\n      <td>20.000000</td>\n      <td>59.000000</td>\n      <td>7553.500000</td>\n      <td>5.000000</td>\n      <td>5.000000</td>\n      <td>1954.000000</td>\n      <td>1967.000000</td>\n      <td>0.000000</td>\n      <td>0.000000</td>\n      <td>...</td>\n      <td>0.000000</td>\n      <td>0.000000</td>\n      <td>0.000000</td>\n      <td>0.000000</td>\n      <td>0.000000</td>\n      <td>0.000000</td>\n      <td>0.000000</td>\n      <td>5.000000</td>\n      <td>2007.000000</td>\n      <td>129975.000000</td>\n    </tr>\n    <tr>\n      <th>50%</th>\n      <td>730.500000</td>\n      <td>50.000000</td>\n      <td>69.000000</td>\n      <td>9478.500000</td>\n      <td>6.000000</td>\n      <td>5.000000</td>\n      <td>1973.000000</td>\n      <td>1994.000000</td>\n      <td>0.000000</td>\n      <td>383.500000</td>\n      <td>...</td>\n      <td>0.000000</td>\n      <td>25.000000</td>\n      <td>0.000000</td>\n      <td>0.000000</td>\n      <td>0.000000</td>\n      <td>0.000000</td>\n      <td>0.000000</td>\n      <td>6.000000</td>\n      <td>2008.000000</td>\n      <td>163000.000000</td>\n    </tr>\n    <tr>\n      <th>75%</th>\n      <td>1095.250000</td>\n      <td>70.000000</td>\n      <td>80.000000</td>\n      <td>11601.500000</td>\n      <td>7.000000</td>\n      <td>6.000000</td>\n      <td>2000.000000</td>\n      <td>2004.000000</td>\n      <td>166.000000</td>\n      <td>712.250000</td>\n      <td>...</td>\n      <td>168.000000</td>\n      <td>68.000000</td>\n      <td>0.000000</td>\n      <td>0.000000</td>\n      <td>0.000000</td>\n      <td>0.000000</td>\n      <td>0.000000</td>\n      <td>8.000000</td>\n      <td>2009.000000</td>\n      <td>214000.000000</td>\n    </tr>\n    <tr>\n      <th>max</th>\n      <td>1460.000000</td>\n      <td>190.000000</td>\n      <td>313.000000</td>\n      <td>215245.000000</td>\n      <td>10.000000</td>\n      <td>9.000000</td>\n      <td>2010.000000</td>\n      <td>2010.000000</td>\n      <td>1600.000000</td>\n      <td>5644.000000</td>\n      <td>...</td>\n      <td>857.000000</td>\n      <td>547.000000</td>\n      <td>552.000000</td>\n      <td>508.000000</td>\n      <td>480.000000</td>\n      <td>738.000000</td>\n      <td>15500.000000</td>\n      <td>12.000000</td>\n      <td>2010.000000</td>\n      <td>755000.000000</td>\n    </tr>\n  </tbody>\n</table>\n<p>8 rows × 38 columns</p>\n</div>"
          },
          "metadata": {}
        }
      ],
      "execution_count": null
    },
    {
      "cell_type": "code",
      "source": [
        "# List of columns to drop based on previous audit\n",
        "cols_to_drop = ['Id',         # Identifier\n",
        "    'PoolQC',     # >99% missing\n",
        "    'MiscFeature',# >96% missing\n",
        "    'Alley',      # >93% missing\n",
        "    'Fence',      # >80% missing\n",
        "    'Street',     # Almost all same value\n",
        "    'LotFrontage', # LotFrontage is numerical, better to impute\n",
        "    'GarageYrBlt','MSZoning_RH', 'LotShape_IR3', 'Neighborhood_Blueste', 'Neighborhood_SawyerW', 'Condition2_Feedr', 'Condition2_Norm', 'Condition2_PosA', 'Condition2_RRAe', 'Condition2_RRAn', 'Condition2_RRNn', 'HouseStyle_SFoyer', 'RoofStyle_Mansard', 'RoofStyle_Shed', 'RoofMatl_Membran', 'Exterior1st_AsphShn', 'Exterior1st_BrkComm', 'Exterior1st_CBlock', 'Exterior1st_MetalSd', 'Exterior1st_Stone', 'Exterior2nd_AsphShn', 'Exterior2nd_CBlock', 'Exterior2nd_CmentBd', 'Exterior2nd_Stucco', 'ExterCond_Po', 'ExterCond_TA', 'BsmtFinType1_Unf', 'BsmtFinType2_Unf', 'Heating_GasW', 'HeatingQC_Po', 'Electrical_FuseP', 'Electrical_Mix', 'FireplaceQu_Gd', 'GarageCond_Gd', 'SaleType_ConLI', 'SaleType_ConLw', 'SaleType_New', 'SaleType_Oth']\n",
        "#  [\n",
        "#     'Id',         # Identifier\n",
        "#     'PoolQC',     # >99% missing\n",
        "#     'MiscFeature',# >96% missing\n",
        "#     'Alley',      # >93% missing\n",
        "#     'Fence',      # >80% missing\n",
        "#     'Street',     # Almost all same value\n",
        "#     'LotFrontage', # LotFrontage is numerical, better to impute\n",
        "#     'GarageYrBlt',\n",
        "#     # Add any others you identify (e.g. 'Utilities', 'MiscVal', etc. if analysis shows)\n",
        "# ]\n",
        "\n",
        "# Actually drop those columns if they exist\n",
        "df_cleaned = df.drop(columns=[col for col in cols_to_drop if col in df.columns])\n",
        "## df_test = df_test.drop(columns=[col for col in cols_to_drop if col in df_test.columns])\n",
        "\n",
        "\n",
        "# Impute remaining missing values\n",
        "for col in df_cleaned.columns:\n",
        "  if df_cleaned[col].isnull().any():\n",
        "    df_cleaned = impute_nan(df_cleaned, col)\n",
        "\n",
        "\n",
        "# Confirm removal and imputation\n",
        "print(\"Remaining columns after drop:\", df_cleaned.columns.tolist())\n",
        "print(\"Shape of cleaned dataframe:\", df_cleaned.shape)\n",
        "print(f\"nan in train df : {df_cleaned.isna().sum().sum()}\")"
      ],
      "metadata": {
        "trusted": true,
        "execution": {
          "iopub.status.busy": "2025-06-23T22:36:15.043273Z",
          "iopub.execute_input": "2025-06-23T22:36:15.043613Z",
          "iopub.status.idle": "2025-06-23T22:36:15.085503Z",
          "shell.execute_reply.started": "2025-06-23T22:36:15.043591Z",
          "shell.execute_reply": "2025-06-23T22:36:15.08441Z"
        },
        "id": "2KjQU-av8-FU",
        "outputId": "dd1a1eb8-7c24-41d4-9a88-fae78d7db923"
      },
      "outputs": [
        {
          "name": "stdout",
          "text": "BrkFace\nTA\nTA\nNo\nUnf\nUnf\nSBrkr\nGd\nAttchd\nUnf\nTA\nTA\nRemaining columns after drop: ['MSSubClass', 'MSZoning', 'LotArea', 'LotShape', 'LandContour', 'Utilities', 'LotConfig', 'LandSlope', 'Neighborhood', 'Condition1', 'Condition2', 'BldgType', 'HouseStyle', 'OverallQual', 'OverallCond', 'YearBuilt', 'YearRemodAdd', 'RoofStyle', 'RoofMatl', 'Exterior1st', 'Exterior2nd', 'MasVnrType', 'MasVnrArea', 'ExterQual', 'ExterCond', 'Foundation', 'BsmtQual', 'BsmtCond', 'BsmtExposure', 'BsmtFinType1', 'BsmtFinSF1', 'BsmtFinType2', 'BsmtFinSF2', 'BsmtUnfSF', 'TotalBsmtSF', 'Heating', 'HeatingQC', 'CentralAir', 'Electrical', '1stFlrSF', '2ndFlrSF', 'LowQualFinSF', 'GrLivArea', 'BsmtFullBath', 'BsmtHalfBath', 'FullBath', 'HalfBath', 'BedroomAbvGr', 'KitchenAbvGr', 'KitchenQual', 'TotRmsAbvGrd', 'Functional', 'Fireplaces', 'FireplaceQu', 'GarageType', 'GarageFinish', 'GarageCars', 'GarageArea', 'GarageQual', 'GarageCond', 'PavedDrive', 'WoodDeckSF', 'OpenPorchSF', 'EnclosedPorch', '3SsnPorch', 'ScreenPorch', 'PoolArea', 'MiscVal', 'MoSold', 'YrSold', 'SaleType', 'SaleCondition', 'SalePrice']\nShape of cleaned dataframe: (1460, 73)\nnan in train df : 0\n",
          "output_type": "stream"
        }
      ],
      "execution_count": null
    },
    {
      "cell_type": "code",
      "source": [
        "from sklearn.neighbors import KNeighborsRegressor\n",
        "from sklearn.metrics import mean_squared_error, r2_score\n",
        "\n",
        "# Prepare data (simple encoding of categoricals)\n",
        "df_model = pd.get_dummies(df_cleaned, drop_first=True)\n",
        "X = df_model.drop('SalePrice', axis=1)\n",
        "y = df_model['SalePrice']\n",
        "\n",
        "# Split data\n",
        "X_train, X_test, y_train, y_test = train_test_split(X, y, random_state=42)\n",
        "\n",
        "# Initialize the KNN model (Regressor)\n",
        "knn = KNeighborsRegressor()\n",
        "\n",
        "# Fit the model\n",
        "knn.fit(X_train, y_train)\n",
        "\n",
        "# Make predictions\n",
        "y_pred = knn.predict(X_test)\n",
        "\n",
        "# Evaluation of the model using regression metrics\n",
        "mse = mean_squared_error(y_test, y_pred)\n",
        "r2 = r2_score(y_test, y_pred)\n",
        "\n",
        "print(f\"Mean Squared Error: {mse}\")\n",
        "print(f\"R-squared: {r2}\")\n",
        "\n",
        "\n",
        "# Define the parameter grid\n",
        "param_grid = {\n",
        "    'n_neighbors': [3, 4, 5, 6, 7, 8, 9, 10],\n",
        "    'weights': ['uniform', 'distance'],\n",
        "    'metric': ['euclidean', 'manhattan'],\n",
        "    'algorithm': ['auto', 'ball_tree', 'kd_tree', 'brute'],\n",
        "    'leaf_size': [20, 30, 40]\n",
        "}\n",
        "\n",
        "# Set up the Grid Search with Cross-Validation (using a regression scoring metric)\n",
        "grid_search = GridSearchCV(knn, param_grid, cv=10, scoring='neg_mean_squared_error', n_jobs=-1, verbose=1)\n",
        "\n",
        "# Fit the model with the best parameters\n",
        "grid_search.fit(X_train, y_train)\n",
        "\n",
        "# Get the best parameters and best score\n",
        "best_params_knn = grid_search.best_params_\n",
        "best_mse = -grid_search.best_score_ # GridSearchCV returns negative MSE for maximization\n",
        "\n",
        "print(f\"Best Parameters: {best_params_knn}\")\n",
        "print(f\"Best Mean Squared Error (from CV): {best_mse}\")"
      ],
      "metadata": {
        "trusted": true,
        "execution": {
          "iopub.status.busy": "2025-06-23T22:38:57.9739Z",
          "iopub.execute_input": "2025-06-23T22:38:57.974542Z",
          "iopub.status.idle": "2025-06-23T22:40:15.400499Z",
          "shell.execute_reply.started": "2025-06-23T22:38:57.974519Z",
          "shell.execute_reply": "2025-06-23T22:40:15.399524Z"
        },
        "id": "YkLcrVz_8-FU",
        "outputId": "046dc698-193c-4c94-fc5f-55c80643852f"
      },
      "outputs": [
        {
          "name": "stdout",
          "text": "              precision    recall  f1-score   support\n\n       35311       0.00      0.00      0.00         1\n       37900       0.00      0.00      0.00         0\n       40000       0.00      0.00      0.00         1\n       55000       0.00      0.00      0.00         0\n       55993       0.00      0.00      0.00         1\n       58500       0.00      0.00      0.00         0\n       60000       0.00      0.00      0.00         1\n       62383       0.00      0.00      0.00         0\n       64500       0.00      0.00      0.00         1\n       66500       0.00      0.00      0.00         1\n       67000       0.00      0.00      0.00         2\n       68400       0.00      0.00      0.00         1\n       68500       0.00      0.00      0.00         1\n       72500       0.00      0.00      0.00         0\n       73000       0.00      0.00      0.00         0\n       75000       0.00      0.00      0.00         1\n       75500       0.00      0.00      0.00         1\n       76000       0.00      0.00      0.00         0\n       79000       0.00      0.00      0.00         1\n       79500       0.00      0.00      0.00         1\n       79900       0.00      0.00      0.00         0\n       80000       0.00      0.00      0.00         0\n       81000       0.00      0.00      0.00         1\n       82000       0.00      0.00      0.00         0\n       82500       0.00      0.00      0.00         0\n       83000       0.00      0.00      0.00         0\n       83500       0.00      0.00      0.00         0\n       84500       0.00      0.00      0.00         1\n       84900       0.00      0.00      0.00         1\n       85000       0.00      0.00      0.00         2\n       86000       0.00      0.00      0.00         2\n       87000       0.00      0.00      0.00         0\n       87500       0.00      0.00      0.00         1\n       88000       0.00      0.00      0.00         0\n       89471       0.00      0.00      0.00         1\n       90000       0.00      0.00      0.00         0\n       91000       0.00      0.00      0.00         1\n       91300       0.00      0.00      0.00         1\n       91500       0.00      0.00      0.00         0\n       92000       0.00      0.00      0.00         1\n       92900       0.00      0.00      0.00         0\n       93000       0.00      0.00      0.00         0\n       93500       0.00      0.00      0.00         2\n       94000       0.00      0.00      0.00         1\n       94750       0.00      0.00      0.00         0\n       95000       0.00      0.00      0.00         0\n       96500       0.00      0.00      0.00         1\n       97000       0.00      0.00      0.00         1\n       97500       0.00      0.00      0.00         0\n       98000       0.00      0.00      0.00         1\n       98600       0.00      0.00      0.00         0\n       99500       0.00      0.00      0.00         0\n       99900       0.00      0.00      0.00         0\n      100000       0.00      0.00      0.00         1\n      101800       0.00      0.00      0.00         1\n      102000       0.00      0.00      0.00         1\n      102776       0.00      0.00      0.00         1\n      103200       0.00      0.00      0.00         1\n      103600       0.00      0.00      0.00         0\n      104000       0.00      0.00      0.00         1\n      105000       0.00      0.00      0.00         0\n      105900       0.00      0.00      0.00         1\n      106000       0.00      0.00      0.00         0\n      106500       0.00      0.00      0.00         0\n      107000       0.00      0.00      0.00         1\n      107400       0.00      0.00      0.00         0\n      107500       0.00      0.00      0.00         2\n      107900       0.00      0.00      0.00         1\n      108000       0.00      0.00      0.00         1\n      108480       0.00      0.00      0.00         1\n      108959       0.00      0.00      0.00         1\n      109000       0.00      0.00      0.00         1\n      109008       0.00      0.00      0.00         1\n      109500       0.00      0.00      0.00         1\n      110000       0.10      1.00      0.18         1\n      110500       0.00      0.00      0.00         0\n      111000       0.00      0.00      0.00         0\n      112000       0.00      0.00      0.00         1\n      112500       0.00      0.00      0.00         0\n      113000       0.00      0.00      0.00         3\n      114500       0.00      0.00      0.00         1\n      114504       0.00      0.00      0.00         0\n      115000       0.00      0.00      0.00         6\n      116050       0.00      0.00      0.00         1\n      117000       0.00      0.00      0.00         0\n      117500       0.00      0.00      0.00         1\n      118000       0.00      0.00      0.00         1\n      118400       0.00      0.00      0.00         1\n      118500       0.00      0.00      0.00         1\n      118858       0.00      0.00      0.00         1\n      119000       0.00      0.00      0.00         2\n      119500       0.00      0.00      0.00         2\n      120000       0.00      0.00      0.00         2\n      121500       0.00      0.00      0.00         0\n      122000       0.00      0.00      0.00         0\n      122500       0.00      0.00      0.00         1\n      123000       0.00      0.00      0.00         2\n      124000       0.00      0.00      0.00         2\n      124500       0.00      0.00      0.00         2\n      124900       0.00      0.00      0.00         1\n      125000       0.00      0.00      0.00         1\n      125500       0.00      0.00      0.00         2\n      126000       0.00      0.00      0.00         1\n      126500       0.00      0.00      0.00         1\n      127000       0.00      0.00      0.00         4\n      127500       0.00      0.00      0.00         1\n      128000       0.00      0.00      0.00         0\n      128200       0.00      0.00      0.00         1\n      128500       0.00      0.00      0.00         1\n      128950       0.00      0.00      0.00         1\n      129000       0.00      0.00      0.00         3\n      129500       0.00      0.00      0.00         0\n      129900       0.00      0.00      0.00         1\n      130000       0.00      0.00      0.00         2\n      130250       0.00      0.00      0.00         1\n      130500       0.00      0.00      0.00         1\n      131000       0.00      0.00      0.00         0\n      131400       0.00      0.00      0.00         1\n      131500       0.00      0.00      0.00         0\n      132000       0.00      0.00      0.00         2\n      132500       0.00      0.00      0.00         1\n      133000       0.00      0.00      0.00         3\n      133500       0.00      0.00      0.00         0\n      133900       0.00      0.00      0.00         1\n      134000       0.00      0.00      0.00         1\n      134432       0.00      0.00      0.00         1\n      134500       0.00      0.00      0.00         2\n      134900       0.00      0.00      0.00         1\n      135000       0.12      0.25      0.17         4\n      135500       0.00      0.00      0.00         2\n      135750       0.00      0.00      0.00         1\n      136000       0.00      0.00      0.00         1\n      136500       0.00      0.00      0.00         2\n      136900       0.00      0.00      0.00         0\n      136905       0.00      0.00      0.00         0\n      137000       0.00      0.00      0.00         1\n      137500       0.00      0.00      0.00         3\n      137900       0.00      0.00      0.00         0\n      138000       0.00      0.00      0.00         1\n      138887       0.00      0.00      0.00         0\n      139000       0.00      0.00      0.00         2\n      140000       0.00      0.00      0.00         6\n      141000       0.00      0.00      0.00         3\n      142000       0.00      0.00      0.00         0\n      142500       0.00      0.00      0.00         1\n      143000       0.00      0.00      0.00         3\n      143250       0.00      0.00      0.00         0\n      143500       0.00      0.00      0.00         1\n      144000       0.00      0.00      0.00         4\n      144500       0.00      0.00      0.00         2\n      145000       0.00      0.00      0.00         6\n      146000       0.00      0.00      0.00         2\n      146500       0.00      0.00      0.00         0\n      147000       0.00      0.00      0.00         2\n      148500       0.00      0.00      0.00         1\n      149000       0.00      0.00      0.00         2\n      149350       0.00      0.00      0.00         1\n      149500       0.00      0.00      0.00         2\n      149900       0.00      0.00      0.00         1\n      150000       0.00      0.00      0.00         1\n      150900       0.00      0.00      0.00         0\n      151000       0.00      0.00      0.00         1\n      151500       0.00      0.00      0.00         1\n      152000       0.00      0.00      0.00         1\n      153337       0.00      0.00      0.00         1\n      153500       0.00      0.00      0.00         2\n      153575       0.00      0.00      0.00         1\n      153900       0.00      0.00      0.00         1\n      154000       0.00      0.00      0.00         1\n      154300       0.00      0.00      0.00         1\n      154500       0.00      0.00      0.00         1\n      154900       0.00      0.00      0.00         1\n      155000       0.00      0.00      0.00         3\n      155835       0.00      0.00      0.00         1\n      155900       0.00      0.00      0.00         1\n      156000       0.00      0.00      0.00         1\n      156500       0.00      0.00      0.00         1\n      156932       0.00      0.00      0.00         0\n      157000       0.00      0.00      0.00         1\n      157500       0.00      0.00      0.00         0\n      158000       0.00      0.00      0.00         1\n      159000       0.00      0.00      0.00         1\n      159500       0.00      0.00      0.00         1\n      159950       0.00      0.00      0.00         1\n      160000       0.00      0.00      0.00         3\n      161500       0.00      0.00      0.00         0\n      162000       0.00      0.00      0.00         0\n      162900       0.00      0.00      0.00         1\n      163500       0.00      0.00      0.00         1\n      164000       0.00      0.00      0.00         0\n      164700       0.00      0.00      0.00         1\n      164990       0.00      0.00      0.00         0\n      165000       0.00      0.00      0.00         3\n      165150       0.00      0.00      0.00         0\n      165500       0.00      0.00      0.00         0\n      165600       0.00      0.00      0.00         1\n      166000       0.00      0.00      0.00         0\n      167000       0.00      0.00      0.00         0\n      168000       0.00      0.00      0.00         0\n      169000       0.00      0.00      0.00         1\n      169500       0.00      0.00      0.00         0\n      169990       0.00      0.00      0.00         1\n      170000       0.00      0.00      0.00         0\n      171000       0.00      0.00      0.00         1\n      172400       0.00      0.00      0.00         0\n      172500       0.00      0.00      0.00         2\n      172785       0.00      0.00      0.00         0\n      173000       0.00      0.00      0.00         2\n      173500       0.00      0.00      0.00         1\n      173900       0.00      0.00      0.00         0\n      174000       0.00      0.00      0.00         2\n      175000       0.00      0.00      0.00         4\n      175500       0.00      0.00      0.00         1\n      175900       0.00      0.00      0.00         1\n      176000       0.00      0.00      0.00         2\n      176432       0.00      0.00      0.00         0\n      177500       0.00      0.00      0.00         1\n      178000       0.00      0.00      0.00         2\n      178900       0.00      0.00      0.00         1\n      179000       0.00      0.00      0.00         0\n      179200       0.00      0.00      0.00         0\n      179900       0.00      0.00      0.00         2\n      180000       0.00      0.00      0.00         3\n      181000       0.00      0.00      0.00         2\n      181134       0.00      0.00      0.00         1\n      182000       0.00      0.00      0.00         1\n      183200       0.00      0.00      0.00         0\n      183500       0.00      0.00      0.00         1\n      183900       0.00      0.00      0.00         1\n      184000       0.00      0.00      0.00         1\n      184750       0.00      0.00      0.00         0\n      184900       0.00      0.00      0.00         1\n      185000       0.00      0.00      0.00         2\n      185500       0.00      0.00      0.00         0\n      185750       0.00      0.00      0.00         1\n      185850       0.00      0.00      0.00         0\n      185900       0.00      0.00      0.00         1\n      187100       0.00      0.00      0.00         1\n      187500       0.00      0.00      0.00         1\n      187750       0.00      0.00      0.00         1\n      188000       0.00      0.00      0.00         1\n      189000       0.00      0.00      0.00         1\n      190000       0.00      0.00      0.00         1\n      191000       0.00      0.00      0.00         0\n      192000       0.00      0.00      0.00         1\n      192140       0.00      0.00      0.00         1\n      192500       0.00      0.00      0.00         1\n      193000       0.00      0.00      0.00         0\n      193500       0.00      0.00      0.00         0\n      194000       0.00      0.00      0.00         1\n      194201       0.00      0.00      0.00         1\n      194500       0.00      0.00      0.00         1\n      195000       0.00      0.00      0.00         1\n      195400       0.00      0.00      0.00         1\n      196000       0.00      0.00      0.00         2\n      197000       0.00      0.00      0.00         2\n      197900       0.00      0.00      0.00         1\n      200000       0.00      0.00      0.00         2\n      200500       0.00      0.00      0.00         1\n      200624       0.00      0.00      0.00         1\n      201000       0.00      0.00      0.00         1\n      202500       0.00      0.00      0.00         1\n      203000       0.00      0.00      0.00         0\n      204900       0.00      0.00      0.00         1\n      205000       0.00      0.00      0.00         3\n      206300       0.00      0.00      0.00         1\n      206900       0.00      0.00      0.00         0\n      207000       0.00      0.00      0.00         1\n      207500       0.00      0.00      0.00         1\n      208900       0.00      0.00      0.00         1\n      210000       0.00      0.00      0.00         1\n      211000       0.00      0.00      0.00         0\n      212000       0.00      0.00      0.00         0\n      212900       0.00      0.00      0.00         0\n      213000       0.00      0.00      0.00         1\n      213250       0.00      0.00      0.00         0\n      213500       0.00      0.00      0.00         1\n      214000       0.00      0.00      0.00         2\n      214900       0.00      0.00      0.00         0\n      215000       0.00      0.00      0.00         0\n      216000       0.00      0.00      0.00         1\n      217000       0.00      0.00      0.00         1\n      217500       0.00      0.00      0.00         1\n      219210       0.00      0.00      0.00         1\n      219500       0.00      0.00      0.00         1\n      220000       0.00      0.00      0.00         1\n      222500       0.00      0.00      0.00         0\n      224900       0.00      0.00      0.00         1\n      225000       0.00      0.00      0.00         3\n      226000       0.00      0.00      0.00         1\n      228500       0.00      0.00      0.00         1\n      230000       0.00      0.00      0.00         2\n      233170       0.00      0.00      0.00         1\n      236000       0.00      0.00      0.00         1\n      237000       0.00      0.00      0.00         0\n      239000       0.00      0.00      0.00         1\n      239500       0.00      0.00      0.00         1\n      239686       0.00      0.00      0.00         0\n      240000       0.00      0.00      0.00         1\n      241500       0.00      0.00      0.00         1\n      242000       0.00      0.00      0.00         1\n      243000       0.00      0.00      0.00         1\n      244000       0.00      0.00      0.00         1\n      244400       0.00      0.00      0.00         1\n      245350       0.00      0.00      0.00         1\n      246578       0.00      0.00      0.00         1\n      248000       0.00      0.00      0.00         1\n      250000       0.00      0.00      0.00         2\n      253000       0.00      0.00      0.00         1\n      253293       0.00      0.00      0.00         1\n      254000       0.00      0.00      0.00         1\n      255000       0.00      0.00      0.00         2\n      260000       0.00      0.00      0.00         3\n      261500       0.00      0.00      0.00         0\n      262280       0.00      0.00      0.00         0\n      262500       0.00      0.00      0.00         1\n      264132       0.00      0.00      0.00         1\n      265979       0.00      0.00      0.00         0\n      266000       0.00      0.00      0.00         1\n      268000       0.00      0.00      0.00         0\n      271000       0.00      0.00      0.00         1\n      275000       0.00      0.00      0.00         3\n      276000       0.00      0.00      0.00         1\n      277000       0.00      0.00      0.00         1\n      280000       0.00      0.00      0.00         1\n      283463       0.00      0.00      0.00         1\n      284000       0.00      0.00      0.00         2\n      285000       0.00      0.00      0.00         1\n      287000       0.00      0.00      0.00         1\n      290000       0.00      0.00      0.00         0\n      293077       0.00      0.00      0.00         1\n      297000       0.00      0.00      0.00         1\n      301000       0.00      0.00      0.00         1\n      301500       0.00      0.00      0.00         0\n      305000       0.00      0.00      0.00         1\n      310000       0.00      0.00      0.00         2\n      311500       0.00      0.00      0.00         1\n      311872       0.00      0.00      0.00         1\n      315000       0.00      0.00      0.00         1\n      315500       0.00      0.00      0.00         1\n      317000       0.00      0.00      0.00         1\n      318061       0.00      0.00      0.00         1\n      320000       0.00      0.00      0.00         0\n      325000       0.00      0.00      0.00         2\n      335000       0.00      0.00      0.00         1\n      337500       0.00      0.00      0.00         1\n      341000       0.00      0.00      0.00         1\n      348000       0.00      0.00      0.00         1\n      350000       0.00      0.00      0.00         1\n      360000       0.00      0.00      0.00         1\n      367294       0.00      0.00      0.00         1\n      369900       0.00      0.00      0.00         1\n      374000       0.00      0.00      0.00         1\n      378500       0.00      0.00      0.00         0\n      380000       0.00      0.00      0.00         1\n      395000       0.00      0.00      0.00         1\n      403000       0.00      0.00      0.00         1\n      438780       0.00      0.00      0.00         1\n      451950       0.00      0.00      0.00         1\n      465000       0.00      0.00      0.00         1\n      556581       0.00      0.00      0.00         1\n      611657       0.00      0.00      0.00         1\n      755000       0.00      0.00      0.00         1\n\n    accuracy                           0.01       365\n   macro avg       0.00      0.00      0.00       365\nweighted avg       0.00      0.01      0.00       365\n\nFitting 10 folds for each of 384 candidates, totalling 3840 fits\n",
          "output_type": "stream"
        },
        {
          "name": "stderr",
          "text": "/usr/local/lib/python3.11/dist-packages/sklearn/metrics/_classification.py:1344: UndefinedMetricWarning: Precision and F-score are ill-defined and being set to 0.0 in labels with no predicted samples. Use `zero_division` parameter to control this behavior.\n  _warn_prf(average, modifier, msg_start, len(result))\n/usr/local/lib/python3.11/dist-packages/sklearn/metrics/_classification.py:1344: UndefinedMetricWarning: Recall and F-score are ill-defined and being set to 0.0 in labels with no true samples. Use `zero_division` parameter to control this behavior.\n  _warn_prf(average, modifier, msg_start, len(result))\n/usr/local/lib/python3.11/dist-packages/sklearn/metrics/_classification.py:1344: UndefinedMetricWarning: Precision and F-score are ill-defined and being set to 0.0 in labels with no predicted samples. Use `zero_division` parameter to control this behavior.\n  _warn_prf(average, modifier, msg_start, len(result))\n/usr/local/lib/python3.11/dist-packages/sklearn/metrics/_classification.py:1344: UndefinedMetricWarning: Recall and F-score are ill-defined and being set to 0.0 in labels with no true samples. Use `zero_division` parameter to control this behavior.\n  _warn_prf(average, modifier, msg_start, len(result))\n/usr/local/lib/python3.11/dist-packages/sklearn/metrics/_classification.py:1344: UndefinedMetricWarning: Precision and F-score are ill-defined and being set to 0.0 in labels with no predicted samples. Use `zero_division` parameter to control this behavior.\n  _warn_prf(average, modifier, msg_start, len(result))\n/usr/local/lib/python3.11/dist-packages/sklearn/metrics/_classification.py:1344: UndefinedMetricWarning: Recall and F-score are ill-defined and being set to 0.0 in labels with no true samples. Use `zero_division` parameter to control this behavior.\n  _warn_prf(average, modifier, msg_start, len(result))\n/usr/local/lib/python3.11/dist-packages/sklearn/model_selection/_split.py:700: UserWarning: The least populated class in y has only 1 members, which is less than n_splits=10.\n  warnings.warn(\n",
          "output_type": "stream"
        },
        {
          "name": "stdout",
          "text": "Best Parameters: {'algorithm': 'auto', 'leaf_size': 20, 'metric': 'manhattan', 'n_neighbors': 3, 'weights': 'uniform'}\n",
          "output_type": "stream"
        }
      ],
      "execution_count": null
    },
    {
      "cell_type": "code",
      "source": [
        "# prompt: Best Parameters: {'algorithm': 'auto', 'leaf_size': 20, 'metric': 'manhattan', 'n_neighbors': 7, 'weights': 'distance'}\n",
        "# Best Mean Squared Error (from CV): 1852418936.0715637  Use this params now to predict the test data and save it as id : price format\n",
        "\n",
        "import pandas as pd\n",
        "# Impute missing values in the test set\n",
        "for col in df_test.columns:\n",
        "  if col in df_test.columns and df_test[col].isnull().any():\n",
        "    # Check if the column was in the training data and handle it accordingly\n",
        "    if col in df.columns: # Use original training data to determine imputation strategy\n",
        "      if df[col].dtype in ['int64', 'float64']:\n",
        "        impute_numerical_nan(df_test, col)\n",
        "      else:\n",
        "        impute_categorical_nan(df_test, col)\n",
        "    else: # If column was not in training data, we might need a different strategy or drop\n",
        "        print(f\"Warning: Column '{col}' found in test set but not in training. Skipping imputation.\")\n",
        "        # Optionally, you might want to drop this column or impute with a default value\n",
        "\n",
        "# Drop columns from the test set that were dropped from the training set\n",
        "df_test_cleaned = df_test.drop(columns=[col for col in cols_to_drop if col in df_test.columns])\n",
        "\n",
        "# Align test set columns with training set columns after one-hot encoding\n",
        "# This handles potential missing columns in the test set after one-hot encoding\n",
        "X_test_model = pd.get_dummies(df_test_cleaned, drop_first=True)\n",
        "\n",
        "# Get the columns from the training data after one-hot encoding\n",
        "train_cols = X.columns\n",
        "\n",
        "# Reindex the test data to have the same columns as the training data, filling missing with 0\n",
        "X_test_aligned = X_test_model.reindex(columns=train_cols, fill_value=0)\n",
        "\n",
        "# Initialize the KNN Regressor with the best found parameters\n",
        "best_knn = KNeighborsRegressor(**best_params_knn)\n",
        "\n",
        "# Fit the best model on the entire training data (or you can choose to refit on the original split)\n",
        "# For submission, it's often better to train on the full training data.\n",
        "# best_knn.fit(X_train, y_train) # Fit on split data\n",
        "best_knn.fit(X, y) # Fit on full training data for potentially better generalization\n",
        "\n",
        "# Make predictions on the processed test data\n",
        "predictions = best_knn.predict(X_test_aligned)\n",
        "\n",
        "# Create the submission DataFrame in 'id : price' format\n",
        "submission_df = pd.DataFrame({'Id': df_test['Id'], 'SalePrice': predictions})\n",
        "\n",
        "# Save the submission DataFrame to a CSV file\n",
        "submission_df.to_csv('submission.csv', index=False)\n",
        "\n",
        "print(\"Submission file created successfully!\")\n",
        "print(submission_df.head())\n"
      ],
      "metadata": {
        "id": "rT9qlkwh_PvA"
      },
      "execution_count": null,
      "outputs": []
    }
  ]
}