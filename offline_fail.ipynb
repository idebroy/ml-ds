{
  "nbformat": 4,
  "nbformat_minor": 0,
  "metadata": {
    "colab": {
      "provenance": [],
      "authorship_tag": "ABX9TyN8e9JaIZDZdr7yEsYbthVG",
      "include_colab_link": true
    },
    "kernelspec": {
      "name": "python3",
      "display_name": "Python 3"
    },
    "language_info": {
      "name": "python"
    }
  },
  "cells": [
    {
      "cell_type": "markdown",
      "metadata": {
        "id": "view-in-github",
        "colab_type": "text"
      },
      "source": [
        "<a href=\"https://colab.research.google.com/github/idebroy/ml-ds/blob/main/offline_fail.ipynb\" target=\"_parent\"><img src=\"https://colab.research.google.com/assets/colab-badge.svg\" alt=\"Open In Colab\"/></a>"
      ]
    },
    {
      "cell_type": "code",
      "execution_count": null,
      "metadata": {
        "colab": {
          "base_uri": "https://localhost:8080/"
        },
        "id": "oa5jTUbhVglM",
        "outputId": "0f096608-d280-4e7f-ac35-ef092fc296d6"
      },
      "outputs": [
        {
          "output_type": "stream",
          "name": "stdout",
          "text": [
            "Mounted at /content/drive\n",
            "Drive \"connected to:\" /content/drive/My Drive/Colab-Stuff/offline-fail.csv\n",
            "           id           uuid  order_id  customer_id  customer_uuid  \\\n",
            "0  3920481938  8SYQXGQZAX75P    994395          NaN            NaN   \n",
            "1  3920481963  SY8ZX7YNZ82P4    994433          NaN            NaN   \n",
            "2  3920482443  C26H3KW534N2E    994971          NaN            NaN   \n",
            "3  3920492858  ASJF540XTPASP   1026537          NaN            NaN   \n",
            "4  3920493555  HPMGXNTE97NCM   1027587          NaN            NaN   \n",
            "\n",
            "   merchant_id  merchant_tender_id  amount  tip_amount  tax_amount  ...  \\\n",
            "0        14005              113167      55         NaN          10  ...   \n",
            "1        14005              113167    2170         NaN         395  ...   \n",
            "2        14005              113167    1136         NaN         207  ...   \n",
            "3         8277               66813    1100         0.0         100  ...   \n",
            "4        12617              101703     452         NaN           0  ...   \n",
            "\n",
            "   payment_refund_id  external_payment_id  account_id  device_id  note  \\\n",
            "0                NaN                  NaN     31270.0    45199.0   NaN   \n",
            "1                NaN                  NaN     31270.0    45646.0   NaN   \n",
            "2                NaN                  NaN     31270.0    45646.0   NaN   \n",
            "3                NaN                  NaN     30816.0    20046.0   NaN   \n",
            "4                NaN                  NaN      8106.0    46813.0   NaN   \n",
            "\n",
            "          created_time  client_created_time        modified_time offline  \\\n",
            "0  2018-01-08 23:23:42  2018-01-08 23:22:55  2018-01-08 23:23:44       1   \n",
            "1  2018-01-09 01:37:49  2018-01-09 01:26:07  2018-01-09 01:37:49       1   \n",
            "2  2018-01-10 00:44:42  2018-01-10 00:44:31  2018-01-10 00:44:42       1   \n",
            "3  2018-02-01 01:23:01  2018-02-01 00:24:54  2018-02-01 01:23:03       1   \n",
            "4  2018-02-02 18:58:10  2018-02-02 18:57:22  2018-02-02 18:58:35       1   \n",
            "\n",
            "  result  \n",
            "0   fail  \n",
            "1   fail  \n",
            "2   fail  \n",
            "3   fail  \n",
            "4   fail  \n",
            "\n",
            "[5 rows x 24 columns]\n"
          ]
        }
      ],
      "source": [
        "# prompt: write a function to load a csv file from google drive\n",
        "\n",
        "import pandas as pd\n",
        "from google.colab import drive\n",
        "\n",
        "def load_csv_from_drive(file_path):\n",
        "  \"\"\"Loads a CSV file from Google Drive into a pandas DataFrame.\n",
        "\n",
        "  Args:\n",
        "    file_path: The path to the CSV file on Google Drive.\n",
        "\n",
        "  Returns:\n",
        "    A pandas DataFrame containing the data from the CSV file.\n",
        "  \"\"\"\n",
        "  drive.mount('/content/drive', force_remount=True)\n",
        "\n",
        "  try:\n",
        "    df = pd.read_csv(file_path)\n",
        "    return df\n",
        "  except FileNotFoundError:\n",
        "    print(f\"Error: File not found at {file_path}\")\n",
        "    return None\n",
        "  except Exception as e:\n",
        "    print(f\"An error occurred while loading the file: {e}\")\n",
        "    return None\n",
        "\n",
        "# Example usage:\n",
        "# Assuming your CSV file is located at '/content/drive/My Drive/my_data.csv'\n",
        "testFilePath = '/content/drive/My Drive/Colab-Stuff/offline-fail.csv'\n",
        "df = load_csv_from_drive(testFilePath)\n",
        "print(f\"Drive \\\"connected to:\\\" {testFilePath}\")\n",
        "\n",
        "# If the file is loaded successfully, you can work with the DataFrame 'df'.\n",
        "# For example, you can print the first few rows:\n",
        "print(df.head())"
      ]
    },
    {
      "cell_type": "code",
      "source": [
        "def impute_categorical_nan(data, column):\n",
        "  \"\"\"\n",
        "  Imputes missing values in a categorical column with the most frequent value.\n",
        "\n",
        "  Args:\n",
        "    data: Pandas DataFrame.\n",
        "    column: Name of the categorical column with missing values.\n",
        "\n",
        "  Returns:\n",
        "    Pandas DataFrame with imputed values.\n",
        "  \"\"\"\n",
        "\n",
        "  # Find the most frequent value\n",
        "  most_frequent_value = data[column].mode()[0]\n",
        "  print(most_frequent_value)\n",
        "\n",
        "  # Fill missing values with the most frequent value\n",
        "  data[column] = data[column].fillna(most_frequent_value)\n",
        "\n",
        "  return data\n",
        "\n",
        "def impute_numerical_nan(data, column):\n",
        "  \"\"\"\n",
        "  Imputes missing values in a numerical column with the mean.\n",
        "  Args:\n",
        "    data: Pandas DataFrame.\n",
        "    column: Name of the numerical column with missing values.\n",
        "  Returns:\n",
        "    Pandas DataFrame with imputed values.\n",
        "  \"\"\"\n",
        "  # Calculate the mean\n",
        "  mean = data[column].mean()\n",
        "\n",
        "  # Fill missing values with the mean\n",
        "  data[column] = data[column].fillna(mean)\n",
        "\n",
        "  return data\n",
        "\n",
        "def impute_nan(data, column):\n",
        "  \"\"\"\n",
        "  Imputes missing values in a column based on its data type.\n",
        "\n",
        "  Args:\n",
        "    data: Pandas DataFrame.\n",
        "    column: Name of the column with missing values.\n",
        "\n",
        "  Returns:\n",
        "    Pandas DataFrame with imputed values.\n",
        "  \"\"\"\n",
        "  if column in data.select_dtypes(include=['number']).columns:\n",
        "    data = impute_numerical_nan(data, column)\n",
        "  else:\n",
        "    data = impute_categorical_nan(data, column)\n",
        "\n",
        "  return data\n",
        "\n",
        "def find_cat_correlation(data, cat_cols, target_col):\n",
        "  \"\"\"\n",
        "  Finds the categorical column most highly correlated (using Cramér's V) with the target column.\n",
        "\n",
        "  Args:\n",
        "      data: Pandas DataFrame.\n",
        "      cat_cols: List of categorical columns.\n",
        "      target_col: Name of the target column (must be categorical).\n",
        "\n",
        "  Returns:\n",
        "      Name of the most highly correlated categorical column.\n",
        "  \"\"\"\n",
        "  from scipy.stats import chi2_contingency\n",
        "\n",
        "  correlations = {}\n",
        "\n",
        "  for col in cat_cols:\n",
        "    if col != target_col:\n",
        "      contingency_table = data.pivot_table(index=target_col, columns=col, aggfunc='size', fill_value=0)\n",
        "      chi2, _, _, _ = chi2_contingency(contingency_table)\n",
        "      n = contingency_table.sum().sum()\n",
        "      phi2 = chi2 / n\n",
        "      min_dim = min(contingency_table.shape) - 1\n",
        "      cramers_v = np.sqrt(phi2 / min_dim)\n",
        "      correlations[col] = cramers_v\n",
        "\n",
        "  most_correlated_column = max(correlations, key=correlations.get)\n",
        "  return most_correlated_column"
      ],
      "metadata": {
        "id": "g-VKyc-RV5um"
      },
      "execution_count": null,
      "outputs": []
    },
    {
      "cell_type": "code",
      "source": [
        "df.info()"
      ],
      "metadata": {
        "colab": {
          "base_uri": "https://localhost:8080/"
        },
        "id": "WcPneU__WcIk",
        "outputId": "46f8f52b-802e-4f3f-8f67-e1438f66661c"
      },
      "execution_count": null,
      "outputs": [
        {
          "output_type": "stream",
          "name": "stdout",
          "text": [
            "<class 'pandas.core.frame.DataFrame'>\n",
            "RangeIndex: 1975 entries, 0 to 1974\n",
            "Data columns (total 24 columns):\n",
            " #   Column               Non-Null Count  Dtype  \n",
            "---  ------               --------------  -----  \n",
            " 0   id                   1975 non-null   int64  \n",
            " 1   uuid                 1975 non-null   object \n",
            " 2   order_id             1975 non-null   int64  \n",
            " 3   customer_id          0 non-null      float64\n",
            " 4   customer_uuid        0 non-null      float64\n",
            " 5   merchant_id          1975 non-null   int64  \n",
            " 6   merchant_tender_id   1975 non-null   int64  \n",
            " 7   amount               1975 non-null   int64  \n",
            " 8   tip_amount           1428 non-null   float64\n",
            " 9   tax_amount           1975 non-null   int64  \n",
            " 10  cashback_amount      1585 non-null   float64\n",
            " 11  cash_tendered        0 non-null      float64\n",
            " 12  gateway_tx_id        1975 non-null   int64  \n",
            " 13  tip_gateway_tx_id    2 non-null      float64\n",
            " 14  payment_refund_id    0 non-null      float64\n",
            " 15  external_payment_id  120 non-null    object \n",
            " 16  account_id           1973 non-null   float64\n",
            " 17  device_id            1567 non-null   float64\n",
            " 18  note                 170 non-null    object \n",
            " 19  created_time         1975 non-null   object \n",
            " 20  client_created_time  1975 non-null   object \n",
            " 21  modified_time        1975 non-null   object \n",
            " 22  offline              1975 non-null   int64  \n",
            " 23  result               1975 non-null   object \n",
            "dtypes: float64(9), int64(8), object(7)\n",
            "memory usage: 370.4+ KB\n"
          ]
        }
      ]
    },
    {
      "cell_type": "markdown",
      "source": [
        "## Compute missing values"
      ],
      "metadata": {
        "id": "V0Mcm21tYg-c"
      }
    },
    {
      "cell_type": "code",
      "metadata": {
        "colab": {
          "base_uri": "https://localhost:8080/"
        },
        "id": "00ef77ef",
        "outputId": "a16c4b6e-46c5-41b9-fd88-4e5609c55cea"
      },
      "source": [
        "# Calculate the number of missing values in each column\n",
        "missing_values_count = df.isnull().sum()\n",
        "\n",
        "# Display the missing values count\n",
        "print(\"Missing values per column:\")\n",
        "print(missing_values_count)"
      ],
      "execution_count": null,
      "outputs": [
        {
          "output_type": "stream",
          "name": "stdout",
          "text": [
            "Missing values per column:\n",
            "id                        0\n",
            "uuid                      0\n",
            "order_id                  0\n",
            "customer_id            1975\n",
            "customer_uuid          1975\n",
            "merchant_id               0\n",
            "merchant_tender_id        0\n",
            "amount                    0\n",
            "tip_amount              547\n",
            "tax_amount                0\n",
            "cashback_amount         390\n",
            "cash_tendered          1975\n",
            "gateway_tx_id             0\n",
            "tip_gateway_tx_id      1973\n",
            "payment_refund_id      1975\n",
            "external_payment_id    1855\n",
            "account_id                2\n",
            "device_id               408\n",
            "note                   1805\n",
            "created_time              0\n",
            "client_created_time       0\n",
            "modified_time             0\n",
            "offline                   0\n",
            "result                    0\n",
            "dtype: int64\n"
          ]
        }
      ]
    },
    {
      "cell_type": "code",
      "metadata": {
        "colab": {
          "base_uri": "https://localhost:8080/"
        },
        "id": "e1d955e9",
        "outputId": "1c5e39ff-0fbb-4179-f69b-8fe2ac185a42"
      },
      "source": [
        "# Identify columns with more than 500 missing values\n",
        "columns_to_drop = missing_values_count[missing_values_count > 500].index.tolist()\n",
        "\n",
        "# Filter columns_to_drop to only include those present in the current DataFrame\n",
        "existing_columns_to_drop = [col for col in columns_to_drop if col in df.columns]\n",
        "\n",
        "# Drop the identified columns that exist in the DataFrame\n",
        "df = df.drop(columns=existing_columns_to_drop)\n",
        "\n",
        "# Display the updated DataFrame info to confirm the columns are dropped\n",
        "df.info()"
      ],
      "execution_count": null,
      "outputs": [
        {
          "output_type": "stream",
          "name": "stdout",
          "text": [
            "<class 'pandas.core.frame.DataFrame'>\n",
            "RangeIndex: 1975 entries, 0 to 1974\n",
            "Data columns (total 16 columns):\n",
            " #   Column               Non-Null Count  Dtype  \n",
            "---  ------               --------------  -----  \n",
            " 0   id                   1975 non-null   int64  \n",
            " 1   uuid                 1975 non-null   object \n",
            " 2   order_id             1975 non-null   int64  \n",
            " 3   merchant_id          1975 non-null   int64  \n",
            " 4   merchant_tender_id   1975 non-null   int64  \n",
            " 5   amount               1975 non-null   int64  \n",
            " 6   tax_amount           1975 non-null   int64  \n",
            " 7   cashback_amount      1585 non-null   float64\n",
            " 8   gateway_tx_id        1975 non-null   int64  \n",
            " 9   account_id           1973 non-null   float64\n",
            " 10  device_id            1567 non-null   float64\n",
            " 11  created_time         1975 non-null   object \n",
            " 12  client_created_time  1975 non-null   object \n",
            " 13  modified_time        1975 non-null   object \n",
            " 14  offline              1975 non-null   int64  \n",
            " 15  result               1975 non-null   object \n",
            "dtypes: float64(3), int64(8), object(5)\n",
            "memory usage: 247.0+ KB\n"
          ]
        }
      ]
    },
    {
      "cell_type": "code",
      "source": [
        "df = impute_categorical_nan(df, 'cashback_amount')\n",
        "columns = ['amount']\n",
        "res = find_cat_correlation(df, columns, 'amount')"
      ],
      "metadata": {
        "colab": {
          "base_uri": "https://localhost:8080/",
          "height": 305
        },
        "id": "7ZmVTcG4ZFya",
        "outputId": "2532089a-28fa-4e48-c9bb-7d3dfa0413d0"
      },
      "execution_count": null,
      "outputs": [
        {
          "output_type": "stream",
          "name": "stdout",
          "text": [
            "0.0\n"
          ]
        },
        {
          "output_type": "error",
          "ename": "ValueError",
          "evalue": "max() arg is an empty sequence",
          "traceback": [
            "\u001b[0;31m---------------------------------------------------------------------------\u001b[0m",
            "\u001b[0;31mValueError\u001b[0m                                Traceback (most recent call last)",
            "\u001b[0;32m<ipython-input-41-3520415401>\u001b[0m in \u001b[0;36m<cell line: 0>\u001b[0;34m()\u001b[0m\n\u001b[1;32m      1\u001b[0m \u001b[0mdf\u001b[0m \u001b[0;34m=\u001b[0m \u001b[0mimpute_categorical_nan\u001b[0m\u001b[0;34m(\u001b[0m\u001b[0mdf\u001b[0m\u001b[0;34m,\u001b[0m \u001b[0;34m'cashback_amount'\u001b[0m\u001b[0;34m)\u001b[0m\u001b[0;34m\u001b[0m\u001b[0;34m\u001b[0m\u001b[0m\n\u001b[1;32m      2\u001b[0m \u001b[0mcolumns\u001b[0m \u001b[0;34m=\u001b[0m \u001b[0;34m[\u001b[0m\u001b[0;34m'amount'\u001b[0m\u001b[0;34m]\u001b[0m\u001b[0;34m\u001b[0m\u001b[0;34m\u001b[0m\u001b[0m\n\u001b[0;32m----> 3\u001b[0;31m \u001b[0mres\u001b[0m \u001b[0;34m=\u001b[0m \u001b[0mfind_cat_correlation\u001b[0m\u001b[0;34m(\u001b[0m\u001b[0mdf\u001b[0m\u001b[0;34m,\u001b[0m \u001b[0mcolumns\u001b[0m\u001b[0;34m,\u001b[0m \u001b[0;34m'amount'\u001b[0m\u001b[0;34m)\u001b[0m\u001b[0;34m\u001b[0m\u001b[0;34m\u001b[0m\u001b[0m\n\u001b[0m",
            "\u001b[0;32m<ipython-input-34-4089298658>\u001b[0m in \u001b[0;36mfind_cat_correlation\u001b[0;34m(data, cat_cols, target_col)\u001b[0m\n\u001b[1;32m     81\u001b[0m       \u001b[0mcorrelations\u001b[0m\u001b[0;34m[\u001b[0m\u001b[0mcol\u001b[0m\u001b[0;34m]\u001b[0m \u001b[0;34m=\u001b[0m \u001b[0mcramers_v\u001b[0m\u001b[0;34m\u001b[0m\u001b[0;34m\u001b[0m\u001b[0m\n\u001b[1;32m     82\u001b[0m \u001b[0;34m\u001b[0m\u001b[0m\n\u001b[0;32m---> 83\u001b[0;31m   \u001b[0mmost_correlated_column\u001b[0m \u001b[0;34m=\u001b[0m \u001b[0mmax\u001b[0m\u001b[0;34m(\u001b[0m\u001b[0mcorrelations\u001b[0m\u001b[0;34m,\u001b[0m \u001b[0mkey\u001b[0m\u001b[0;34m=\u001b[0m\u001b[0mcorrelations\u001b[0m\u001b[0;34m.\u001b[0m\u001b[0mget\u001b[0m\u001b[0;34m)\u001b[0m\u001b[0;34m\u001b[0m\u001b[0;34m\u001b[0m\u001b[0m\n\u001b[0m\u001b[1;32m     84\u001b[0m   \u001b[0;32mreturn\u001b[0m \u001b[0mmost_correlated_column\u001b[0m\u001b[0;34m\u001b[0m\u001b[0;34m\u001b[0m\u001b[0m\n",
            "\u001b[0;31mValueError\u001b[0m: max() arg is an empty sequence"
          ]
        }
      ]
    }
  ]
}